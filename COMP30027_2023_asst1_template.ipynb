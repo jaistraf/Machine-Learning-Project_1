{
 "cells": [
  {
   "cell_type": "markdown",
   "metadata": {},
   "source": [
    "###### ### The University of Melbourne, School of Computing and Information Systems\n",
    "# COMP30027 Machine Learning, 2023 Semester 1\n",
    "\n",
    "## Assignment 1: Music genre classification with naive Bayes\n"
   ]
  },
  {
   "cell_type": "markdown",
   "metadata": {},
   "source": [
    "**Student ID(s):**     `1268470`\n"
   ]
  },
  {
   "cell_type": "markdown",
   "metadata": {},
   "source": [
    "This iPython notebook is a template which you will use for your Assignment 1 submission.\n",
    "\n",
    "Marking will be applied on the four functions that are defined in this notebook, and to your responses to the questions at the end of this notebook (Submitted in a separate PDF file).\n",
    "\n",
    "**NOTE: YOU SHOULD ADD YOUR RESULTS, DIAGRAMS AND IMAGES FROM YOUR OBSERVATIONS IN THIS FILE TO YOUR REPORT (the PDF file).**\n",
    "\n",
    "You may change the prototypes of these functions, and you may write other functions, according to your requirements. We would appreciate it if the required functions were prominent/easy to find.\n",
    "\n",
    "**Adding proper comments to your code is MANDATORY. **"
   ]
  },
  {
   "cell_type": "code",
   "execution_count": 1,
   "metadata": {
    "pycharm": {
     "is_executing": true
    }
   },
   "outputs": [],
   "source": [
    "import pandas as pd\n",
    "import numpy as np\n",
    "\n",
    "def log_gaussian(param, x):\n",
    "    mu = param['mu']\n",
    "    sd = param['sd']\n",
    "    return -np.log(sd*np.sqrt(2*np.pi))-(x - mu)**2 / 2 / sd**2"
   ]
  },
  {
   "cell_type": "code",
   "execution_count": 14,
   "metadata": {
    "ExecuteTime": {
     "end_time": "2023-04-03T17:11:44.534367Z",
     "start_time": "2023-04-03T17:11:44.492377Z"
    }
   },
   "outputs": [],
   "source": [
    "# This function should prepare the data by reading it from a file and converting it into a useful format for training and testing\n",
    "\n",
    "def preprocess(file):\n",
    "    file = pd.read_csv(file+'.csv', sep=',')\n",
    "    data = file.iloc[:, 1:-1] # exclude the first column, filename, & labels\n",
    "    labels = file['label'] # label column\n",
    "    return data, labels"
   ]
  },
  {
   "cell_type": "code",
   "execution_count": 49,
   "metadata": {
    "pycharm": {
     "is_executing": true
    }
   },
   "outputs": [],
   "source": [
    "# This function should calculat prior probabilities and likelihoods from the training data and using\n",
    "# them to build a naive Bayes model\n",
    "\n",
    "def calc_prior(labels):\n",
    "    prior_prob = {}\n",
    "    unique_labels, label_counts = np.unique(labels, return_counts=True)\n",
    "    n = len(labels)\n",
    "    for i in range(len(unique_labels)):\n",
    "        prior_prob[unique_labels[i]] = (label_counts[i] / n)\n",
    "    return prior_prob"
   ]
  },
  {
   "cell_type": "code",
   "execution_count": 37,
   "metadata": {
    "pycharm": {
     "is_executing": true
    }
   },
   "outputs": [],
   "source": [
    "def calc_likelihoods(data, labels):\n",
    "    unique_labels = np.unique(labels) # set of labels\n",
    "    features_list = data.columns # the name of the features, ensuring to exclude label*\n",
    "    likelihood = {}\n",
    "    \n",
    "    for feature in features_list:\n",
    "        likelihood[feature] = {}\n",
    "        for label in unique_labels:\n",
    "            values = data.loc[labels==label, feature]\n",
    "            likelihood[feature][label] = {'mu': np.mean(values), 'sd': np.std(values, ddof=1)}\n",
    "            # find all values for a certain feature with class == label, then record the mean and standard deviation\n",
    "            \n",
    "    return likelihood\n",
    "    "
   ]
  },
  {
   "cell_type": "code",
   "execution_count": 38,
   "metadata": {
    "pycharm": {
     "is_executing": true
    }
   },
   "outputs": [],
   "source": [
    "def train(data, labels):\n",
    "    prior_prob = calc_prior(labels) # dictionary: keys the label & value the corresponding prior probability\n",
    "    likelihoods = calc_likelihoods(data, labels) # dictionary: first key the feature, second key the label then the mu & sd\n",
    "    return prior_prob, likelihoods"
   ]
  },
  {
   "cell_type": "code",
   "execution_count": 52,
   "metadata": {},
   "outputs": [],
   "source": [
    "def calc_posterior(data, prior_prob, likelihood):\n",
    "    posterior_probs = []\n",
    "\n",
    "    for _, instance in data.iterrows():\n",
    "        post_probs = {}\n",
    "        for label in prior_prob:\n",
    "            post_probs[label] = np.log(prior_prob[label])\n",
    "            for feature in likelihood:\n",
    "                    post_probs[label] += log_gaussian(likelihood[feature][label], instance[feature])\n",
    "        posterior_probs.append(post_probs)\n",
    "\n",
    "    return posterior_probs"
   ]
  },
  {
   "cell_type": "code",
   "execution_count": 57,
   "metadata": {},
   "outputs": [],
   "source": [
    "# This function should predict classes for new items in a test dataset\n",
    "\n",
    "def predict(data, prior_prob, likelihood):\n",
    "    # Calculate posterior probabilities\n",
    "    posterior_probs = calc_posterior(data, prior_prob, likelihood)\n",
    "    # Find argmax for each instance\n",
    "    predictions = [max(probs, key=probs.get) for probs in posterior_probs]\n",
    "    return predictions"
   ]
  },
  {
   "cell_type": "code",
   "execution_count": 61,
   "metadata": {},
   "outputs": [],
   "source": [
    "# This function should evaliate the prediction performance by comparing your model’s class outputs to ground\n",
    "# truth labels\n",
    "\n",
    "def evaluate(predictions, true):\n",
    "    return sum([a == b for a,b in zip(predictions, true)])/len(predictions)"
   ]
  },
  {
   "cell_type": "code",
   "execution_count": 90,
   "metadata": {},
   "outputs": [],
   "source": [
    "def diagnostics(predictions, true):\n",
    "    pos = 'classical'\n",
    "    predictions = pd.Series(predictions)\n",
    "    tp = sum(predictions[true == pos] == pos)\n",
    "    tn = sum(predictions[true != pos] != pos)\n",
    "    fp = sum(predictions[true != pos] == pos)\n",
    "    fn = sum(predictions[true == pos] != pos)\n",
    "    precision = tp / (tp + fp)\n",
    "    recall = tp / (tp + fn)\n",
    "    print(\"tp: {}, tn: {}, fp: {}, fn: {}\".format(tp, tn, fp, fn))\n",
    "    print(\"precision: \",precision)\n",
    "    print(\"recall: \", recall)\n",
    "    print(\"accuracy: \", evaluate(predictions, true))"
   ]
  },
  {
   "cell_type": "markdown",
   "metadata": {},
   "source": [
    "## Task 1. Pop vs. classical music classification\n",
    "\n",
    "#### NOTE: you may develope codes or functions to help respond to the question here, but your formal answer must be submitted separately as a PDF."
   ]
  },
  {
   "cell_type": "markdown",
   "metadata": {},
   "source": [
    "### Q1\n",
    "Compute and report the accuracy, precision, and recall of your model (treat \"classical\" as the \"positive\" class)."
   ]
  },
  {
   "cell_type": "code",
   "execution_count": 88,
   "metadata": {},
   "outputs": [],
   "source": [
    "data_train, labels_train = preprocess('pop_vs_classical_train')\n",
    "prior_prob, likelihood = train(data_train, labels_train)\n",
    "\n",
    "data_test, labels_test = preprocess('pop_vs_classical_test')\n",
    "predictions = predict(data_test, prior_prob, likelihood)\n"
   ]
  },
  {
   "cell_type": "code",
   "execution_count": 91,
   "metadata": {},
   "outputs": [
    {
     "name": "stdout",
     "output_type": "stream",
     "text": [
      "tp: 20, tn: 22, fp: 1, fn: 0\n",
      "precision:  0.9523809523809523\n",
      "recall:  1.0\n",
      "accuracy:  0.9767441860465116\n"
     ]
    }
   ],
   "source": [
    "diagnostics(predictions, labels_test)"
   ]
  },
  {
   "cell_type": "markdown",
   "metadata": {},
   "source": [
    "### Q2\n",
    "For each of the features X below, plot the probability density functions P(X|Class = pop) and P(X|Class = classical). If you had to classify pop vs. classical music using just one of these three features, which feature would you use and why? Refer to your plots to support your answer.\n",
    "- spectral centroid mean\n",
    "- harmony mean\n",
    "- tempo"
   ]
  },
  {
   "cell_type": "code",
   "execution_count": 93,
   "metadata": {},
   "outputs": [
    {
     "name": "stdout",
     "output_type": "stream",
     "text": [
      "{'classical': {'mu': 1340.3810399556526, 'sd': 361.5581884807616}, 'pop': {'mu': 3066.604994628646, 'sd': 603.7650752430725}}\n"
     ]
    }
   ],
   "source": [
    "features = ['spectral_centroid_mean', 'harmony_mean', 'tempo']\n",
    "labels = ['pop', 'classical']"
   ]
  },
  {
   "cell_type": "code",
   "execution_count": 95,
   "metadata": {},
   "outputs": [
    {
     "ename": "ModuleNotFoundError",
     "evalue": "No module named 'matplotlib'",
     "output_type": "error",
     "traceback": [
      "\u001B[1;31m---------------------------------------------------------------------------\u001B[0m",
      "\u001B[1;31mModuleNotFoundError\u001B[0m                       Traceback (most recent call last)",
      "Cell \u001B[1;32mIn[95], line 1\u001B[0m\n\u001B[1;32m----> 1\u001B[0m \u001B[38;5;28;01mimport\u001B[39;00m \u001B[38;5;21;01mmatplotlib\u001B[39;00m\u001B[38;5;21;01m.\u001B[39;00m\u001B[38;5;21;01mpyplot\u001B[39;00m \u001B[38;5;28;01mas\u001B[39;00m \u001B[38;5;21;01mplt\u001B[39;00m\n\u001B[0;32m      2\u001B[0m \u001B[38;5;28;01mfrom\u001B[39;00m \u001B[38;5;21;01mscipy\u001B[39;00m\u001B[38;5;21;01m.\u001B[39;00m\u001B[38;5;21;01mstats\u001B[39;00m \u001B[38;5;28;01mimport\u001B[39;00m norm\n\u001B[0;32m      3\u001B[0m \u001B[38;5;28;01mfor\u001B[39;00m feat \u001B[38;5;129;01min\u001B[39;00m features:\n",
      "\u001B[1;31mModuleNotFoundError\u001B[0m: No module named 'matplotlib'"
     ]
    }
   ],
   "source": [
    "import matplotlib.pyplot as plt\n",
    "from scipy.stats import norm\n",
    "for feat in features:\n",
    "    for lab in labels:\n",
    "        mu = likelihood[feature][lab]['mu']\n",
    "        sd = likelihood[feature][lab]['sd']\n",
    "        x = np.linspace(mu - 3*sd, mu + 3*sd, 100)\n",
    "        plt.plot(x, stats.norm.pdf(x, mu, sigma))\n",
    "        plt.show()"
   ]
  },
  {
   "cell_type": "markdown",
   "metadata": {},
   "source": [
    "## Task 2. 10-way music genre classification\n",
    "\n",
    "#### NOTE: you may develope codes or functions to help respond to the question here, but your formal answer must be submitted separately as a PDF."
   ]
  },
  {
   "cell_type": "markdown",
   "metadata": {},
   "source": [
    "### Q3\n",
    "Compare the performance of the full model to a 0R baseline and a one-attribute baseline. The one-attribute baseline should be the best possible naive Bayes model which uses only a prior and a single attribute. In your write-up, explain how you implemented the 0R and one-attribute baselines."
   ]
  },
  {
   "cell_type": "code",
   "execution_count": null,
   "metadata": {},
   "outputs": [],
   "source": []
  },
  {
   "cell_type": "markdown",
   "metadata": {},
   "source": [
    "### Q4\n",
    "Train and test your model with a range of training set sizes by setting up your own train/test splits. With each split, use cross-fold validation so you can report the performance on the entire dataset (1000 items). You may use built-in functions to set up cross-validation splits. In your write-up, evaluate how model performance changes with training set size."
   ]
  },
  {
   "cell_type": "code",
   "execution_count": null,
   "metadata": {},
   "outputs": [],
   "source": []
  },
  {
   "cell_type": "markdown",
   "metadata": {},
   "source": [
    "### Q5\n",
    "Implement a kernel density estimate (KDE) naive Bayes model and compare its performance to your Gaussian naive Bayes model. You may use built-in functions and automatic (\"rule of thumb\") bandwidth selectors to compute the KDE probabilities, but you should implement the naive Bayes logic yourself. You should give the parameters of the KDE implementation (namely, what bandwidth(s) you used and how they were chosen) in your write-up."
   ]
  },
  {
   "cell_type": "code",
   "execution_count": null,
   "metadata": {},
   "outputs": [],
   "source": []
  },
  {
   "cell_type": "markdown",
   "metadata": {},
   "source": [
    "### Q6\n",
    "Modify your naive Bayes model to handle missing attributes in the test data. Recall from lecture that you can handle missing attributes at test by skipping the missing attributes and computing the posterior probability from the non-missing attributes. Randomly delete some attributes from the provided test set to test how robust your model is to missing data. In your write-up, evaluate how your model's performance changes as the amount of missing data increases."
   ]
  },
  {
   "cell_type": "code",
   "execution_count": null,
   "metadata": {},
   "outputs": [],
   "source": []
  }
 ],
 "metadata": {
  "kernelspec": {
   "display_name": "Python 3 (ipykernel)",
   "language": "python",
   "name": "python3"
  },
  "language_info": {
   "codemirror_mode": {
    "name": "ipython",
    "version": 3
   },
   "file_extension": ".py",
   "mimetype": "text/x-python",
   "name": "python",
   "nbconvert_exporter": "python",
   "pygments_lexer": "ipython3",
   "version": "3.11.1"
  }
 },
 "nbformat": 4,
 "nbformat_minor": 4
}
